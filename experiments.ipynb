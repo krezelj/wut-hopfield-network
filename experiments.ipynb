{
 "cells": [
  {
   "cell_type": "code",
   "execution_count": 67,
   "metadata": {},
   "outputs": [],
   "source": [
    "import os\n",
    "import re\n",
    "\n",
    "import numpy as np\n",
    "from PIL import Image\n",
    "import matplotlib.pyplot as plt\n",
    "import seaborn as sns\n",
    "\n",
    "from hnetwork import HNetwork\n",
    "from visualisation import *"
   ]
  },
  {
   "cell_type": "code",
   "execution_count": 68,
   "metadata": {},
   "outputs": [],
   "source": [
    "def apply_noise(pattern, noise):\n",
    "    noise = (np.random.random(size=pattern.shape) > noise) * 2 - 1\n",
    "    return pattern * noise\n",
    "\n",
    "def compare_bitmaps(original, reconstructed):\n",
    "    return original == reconstructed"
   ]
  },
  {
   "cell_type": "code",
   "execution_count": 71,
   "metadata": {},
   "outputs": [],
   "source": [
    "datasets = {}\n",
    "datasets_flat = {}\n",
    "dataset_shapes = {}\n",
    "for path in os.listdir('./data'):\n",
    "    if not path.endswith('.csv'):\n",
    "        continue\n",
    "    name = path[:-4]\n",
    "    shape = tuple(map(lambda x : int(x), reversed(re.search(r'\\b\\d+x\\d+\\b', name).group().split('x'))))\n",
    "    patterns = np.genfromtxt(f'./data/{path}', delimiter=',')\n",
    "    datasets[name] = patterns.reshape((-1,) + shape)\n",
    "    datasets_flat[name] = patterns\n",
    "    dataset_shapes[name] = shape"
   ]
  },
  {
   "cell_type": "code",
   "execution_count": 5,
   "metadata": {},
   "outputs": [],
   "source": [
    "bitmaps = {}\n",
    "for name, patterns in datasets.items():\n",
    "    bitmaps[name] = []\n",
    "    for pattern in patterns:\n",
    "        image = draw_bitmap(pattern)\n",
    "        bitmaps[name].append(image)"
   ]
  },
  {
   "cell_type": "code",
   "execution_count": 62,
   "metadata": {},
   "outputs": [],
   "source": [
    "reconstructed = {}\n",
    "for name, patterns in datasets_flat.items():\n",
    "    hn = HNetwork(patterns[0].shape[0], train_rule='hebb', update_mode='async')\n",
    "    hn.fit(patterns, lr=1e-3, epochs=100)\n",
    "    reconstructed[name] = []\n",
    "    for pattern in patterns:\n",
    "        noisy = apply_noise(pattern, noise=0.02)\n",
    "        pred = hn.predict(noisy, epochs=10)\n",
    "        reconstructed[name].append(pred.reshape(dataset_shapes[name]))\n",
    "    reconstructed[name] = np.array(reconstructed[name])"
   ]
  },
  {
   "cell_type": "code",
   "execution_count": 65,
   "metadata": {},
   "outputs": [
    {
     "data": {
      "text/plain": [
       "'large-25x25'"
      ]
     },
     "execution_count": 65,
     "metadata": {},
     "output_type": "execute_result"
    }
   ],
   "source": [
    "name = list(datasets.keys())[1]\n",
    "name"
   ]
  },
  {
   "cell_type": "code",
   "execution_count": 66,
   "metadata": {},
   "outputs": [
    {
     "data": {
      "image/png": "[encoded data removed]",
      "text/plain": [
       "<PIL.Image.Image image mode=RGB size=1500x500>"
      ]
     },
     "execution_count": 66,
     "metadata": {},
     "output_type": "execute_result"
    }
   ],
   "source": [
    "img = draw_comparison(datasets[name], reconstructed[name])\n",
    "img"
   ]
  },
  {
   "cell_type": "code",
   "execution_count": 61,
   "metadata": {},
   "outputs": [],
   "source": [
    "img.save(f\"./oja_async_{name.replace('-', '')}.png\")"
   ]
  }
 ],
 "metadata": {
  "kernelspec": {
   "display_name": "Python 3",
   "language": "python",
   "name": "python3"
  },
  "language_info": {
   "codemirror_mode": {
    "name": "ipython",
    "version": 3
   },
   "file_extension": ".py",
   "mimetype": "text/x-python",
   "name": "python",
   "nbconvert_exporter": "python",
   "pygments_lexer": "ipython3",
   "version": "3.11.2"
  }
 },
 "nbformat": 4,
 "nbformat_minor": 2
}
