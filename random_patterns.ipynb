{
 "cells": [
  {
   "cell_type": "code",
   "execution_count": 2,
   "metadata": {},
   "outputs": [],
   "source": [
    "import os\n",
    "import re\n",
    "\n",
    "import numpy as np\n",
    "from PIL import Image\n",
    "import matplotlib.pyplot as plt\n",
    "import seaborn as sns\n",
    "\n",
    "from hnetwork import HNetwork\n",
    "from visualisation import *"
   ]
  },
  {
   "cell_type": "code",
   "execution_count": 3,
   "metadata": {},
   "outputs": [],
   "source": [
    "def apply_noise(pattern, noise):\n",
    "    noise = (np.random.random(size=pattern.shape) > noise) * 2 - 1\n",
    "    return pattern * noise"
   ]
  },
  {
   "cell_type": "code",
   "execution_count": 88,
   "metadata": {},
   "outputs": [],
   "source": [
    "datasets = {}\n",
    "datasets_flat = {}\n",
    "name = 'large-25x25.plus.csv'\n",
    "path = f'./data/{name}'\n",
    "shape = tuple(map(lambda x : int(x), reversed(re.search(r'\\b\\d+x\\d+\\b', name).group().split('x'))))\n",
    "patterns = np.genfromtxt(f'{path}', delimiter=',')\n",
    "datasets[name] = patterns.reshape((-1,) + shape)\n",
    "datasets_flat[name] = patterns"
   ]
  },
  {
   "cell_type": "code",
   "execution_count": 89,
   "metadata": {},
   "outputs": [],
   "source": [
    "X = datasets_flat[name]"
   ]
  },
  {
   "cell_type": "code",
   "execution_count": 90,
   "metadata": {},
   "outputs": [
    {
     "name": "stdout",
     "output_type": "stream",
     "text": [
      "early stopping after 62 epochs\n"
     ]
    }
   ],
   "source": [
    "hn = HNetwork(np.prod(shape), train_rule='oja', update_mode='async')\n",
    "hn.fit(X, epochs=100, lr=0.0001)"
   ]
  },
  {
   "cell_type": "code",
   "execution_count": 91,
   "metadata": {},
   "outputs": [],
   "source": [
    "img_idx = 0"
   ]
  },
  {
   "cell_type": "code",
   "execution_count": 106,
   "metadata": {},
   "outputs": [
    {
     "data": {
      "image/png": "[encoded data removed]",
      "text/plain": [
       "<PIL.Image.Image image mode=RGB size=375x150>"
      ]
     },
     "execution_count": 106,
     "metadata": {},
     "output_type": "execute_result"
    }
   ],
   "source": [
    "X_noisy = []\n",
    "Y_pred = []\n",
    "\n",
    "for img_idx in [1]:\n",
    "    for noise in [0.1, 0.2, 0.3, 0.4, 0.5]:\n",
    "        x_noisy = apply_noise(X[img_idx], noise=noise)\n",
    "        y_pred = hn.predict(x_noisy, epochs=10)\n",
    "\n",
    "        X_noisy.append(x_noisy.reshape(shape))\n",
    "        Y_pred.append(y_pred.reshape(shape))\n",
    "\n",
    "X_noisy = np.array(X_noisy)\n",
    "Y_pred = np.array(Y_pred)\n",
    "\n",
    "draw_comparison(X_noisy, Y_pred, scale=3)"
   ]
  }
 ],
 "metadata": {
  "kernelspec": {
   "display_name": "Python 3",
   "language": "python",
   "name": "python3"
  },
  "language_info": {
   "codemirror_mode": {
    "name": "ipython",
    "version": 3
   },
   "file_extension": ".py",
   "mimetype": "text/x-python",
   "name": "python",
   "nbconvert_exporter": "python",
   "pygments_lexer": "ipython3",
   "version": "3.11.2"
  }
 },
 "nbformat": 4,
 "nbformat_minor": 2
}
